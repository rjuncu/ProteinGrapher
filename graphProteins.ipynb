{
  "nbformat": 4,
  "nbformat_minor": 0,
  "metadata": {
    "colab": {
      "provenance": []
    },
    "kernelspec": {
      "name": "python3",
      "display_name": "Python 3"
    },
    "language_info": {
      "name": "python"
    }
  },
  "cells": [
    {
      "cell_type": "code",
      "execution_count": null,
      "metadata": {
        "id": "R4OaAUIa8xjV"
      },
      "outputs": [],
      "source": [
        "# These are the only packages you are allowed import:\n",
        "import csv\n",
        "import numpy as np\n",
        "\n",
        "def my_name():\n",
        "    return \"Rucsanda Juncu\"\n",
        "\n",
        "def parse_network(filename):\n",
        "    \"\"\"\n",
        "    parse_network reads in a file and stores edges bidirectionally. Both prot_list and edges contain no repeated values.\n",
        "    filename is a string that holds the file name.\n",
        "    Returns a list of proteins and a set of edges.\n",
        "    \"\"\"\n",
        "    file = open(filename,'r')\n",
        "    raw_file = csv.reader(file, delimiter=\"\\t\")\n",
        "    proteins = []\n",
        "    edges = set()\n",
        "\n",
        "    for i in raw_file:\n",
        "      edges.add((i[0],i[1]))\n",
        "      edges.add((i[1],i[0]))\n",
        "\n",
        "    for index, value in enumerate(edges):\n",
        "        if any(p == value[0] for p in proteins):\n",
        "          continue\n",
        "        else:\n",
        "          proteins.append(value[0])\n",
        "\n",
        "    file.close()\n",
        "    proteins = sorted(proteins)\n",
        "    return proteins, edges"
      ]
    },
    {
      "cell_type": "code",
      "source": [
        "def build_laplacian(protein_list, edges):\n",
        "    \"\"\"\n",
        "    build_laplacian takes the list protein_list and set edges from parse_network()\n",
        "    returns a laplacian matrix\n",
        "    A=Adjacency matrix containing boolean representation of which proteins are connected\n",
        "    D=Diagonal matrix containing the sum of the columns of A\n",
        "    L=Laplacian matrix\n",
        "    proteins are stored in a dictionary so that each protein is associated with a column/row in a matrix\n",
        "    \"\"\"\n",
        "    size = len(protein_list)\n",
        "    A = np.zeros((size, size))\n",
        "    D = np.zeros((size, size))\n",
        "    prot_dictionary = {}\n",
        "\n",
        "    for index, prot in enumerate(protein_list):\n",
        "      prot_dictionary[prot] = index\n",
        "\n",
        "    for i, pairs in enumerate(edges):\n",
        "      x = prot_dictionary[pairs[0]]\n",
        "      y = prot_dictionary[pairs[1]]\n",
        "      A[x, y] = 1\n",
        "\n",
        "    sumA = A.sum(axis = 0)\n",
        "\n",
        "    for d, i in enumerate(D):\n",
        "      D[d, d] = sumA[d]\n",
        "\n",
        "    L = D - A\n",
        "    return L\n",
        "\n"
      ],
      "metadata": {
        "id": "zzwTgUHoQG36"
      },
      "execution_count": null,
      "outputs": []
    },
    {
      "cell_type": "code",
      "source": [
        "def connected_components(laplacian):\n",
        "    \"\"\"\n",
        "    connected_components takes the numpy laplacian matrix from build_laplacian\n",
        "    returns an int containing the number of zero eigenvalues in the matrix\n",
        "    e-8 is used as a cut off for zero eigenvalues since no lambda is truly equal to 0\n",
        "    eigvalsh is used since L is a hermitian matrix (L=L^T)\n",
        "    zero eigenvalues = number of connected components\n",
        "    \"\"\"\n",
        "    eigs = np.linalg.eigvalsh(laplacian)\n",
        "    zero_eigs = 0\n",
        "    for i in eigs:\n",
        "      if i <= 0.000000001:\n",
        "        zero_eigs = zero_eigs+1\n",
        "    return zero_eigs\n"
      ],
      "metadata": {
        "id": "uY3JZd4IQKrO"
      },
      "execution_count": null,
      "outputs": []
    },
    {
      "cell_type": "code",
      "source": [
        "def get_neighborhood(protein, edges):\n",
        "    \"\"\"\n",
        "    get_neighborhood takes a character that represents a protein in the network, and a set of edges\n",
        "    returns a set of proteins connected to the passed protein\n",
        "    \"\"\"\n",
        "    neighbors = set()\n",
        "    for e in edges:\n",
        "      if protein == e[0]:\n",
        "        neighbors.add(e[0])\n",
        "        neighbors.add(e[1])\n",
        "\n",
        "    neighbors = sorted(neighbors)\n",
        "    return set(neighbors)"
      ],
      "metadata": {
        "id": "CNczUizNQNl7"
      },
      "execution_count": null,
      "outputs": []
    },
    {
      "cell_type": "code",
      "source": [
        "def detect_cluster(protein, edges):\n",
        "    \"\"\"\n",
        "    detect_cluster takes a char that represents a protein and a set of edges\n",
        "    returns a float clustering_coefficient and the number of proteins in a neighborhood as int nodes\n",
        "    clusters computed using the formula 2|E|/(k(k-1))\n",
        "    E = number of edges in a neighborhood\n",
        "    k = number of vertices\n",
        "    clustering_coefficient of 1 indicates a completely connected cluster\n",
        "    \"\"\"\n",
        "    neighbors = get_neighborhood(protein, edges)\n",
        "    nodes = len(neighbors)\n",
        "    temp_edge = list()\n",
        "\n",
        "    for node in neighbors:\n",
        "      for edge in edges:\n",
        "        if node == edge[0] and edge[1] in neighbors:\n",
        "          temp_edge.append(edge)\n",
        "\n",
        "    clustering_coefficient = len(temp_edge)/(nodes*(nodes-1))\n",
        "    return clustering_coefficient, nodes"
      ],
      "metadata": {
        "id": "NUwjD2IAQSmC"
      },
      "execution_count": null,
      "outputs": []
    },
    {
      "cell_type": "code",
      "source": [
        "def get_all_clusters(protein_list, edges):\n",
        "  \"\"\"\n",
        "  get_all_clusters takes a list of all proteins and a set of all edges\n",
        "  returns a list clusters that contains tuples with the protein, number of neighbors, and the clustering coefficient\n",
        "  selects clusters with coefficients >= .90 and sorts them by how many neighbors are in the cluster\n",
        "  \"\"\"\n",
        "  clusters = list()\n",
        "\n",
        "  for prot in protein_list:\n",
        "    neighbors = get_neighborhood(prot, edges)\n",
        "    if len(neighbors) > 3:\n",
        "      clustering_coefficient, nodes = detect_cluster(prot, edges)\n",
        "      if clustering_coefficient >= 0.90:\n",
        "        clusters.append(tuple((prot, len(neighbors), clustering_coefficient)))\n",
        "\n",
        "  clusters = sorted(clusters, key = lambda x: x[1])\n",
        "  return clusters"
      ],
      "metadata": {
        "id": "foGiiV1dQVWt"
      },
      "execution_count": null,
      "outputs": []
    },
    {
      "cell_type": "code",
      "source": [
        "if __name__ == \"__main__\":\n",
        "    prot_list, edges = parse_network(\"example_network.tsv\")\n",
        "    # laplace_matrix = build_laplacian(prot_list, edges)\n",
        "    # neighbors = get_neighborhood('D', edges)\n",
        "    # print(detect_cluster('D', edges))\n",
        "    # get_all_clusters(prot_list, edges)\n",
        "    # print(neighbors)\n",
        "    print(edges)"
      ],
      "metadata": {
        "colab": {
          "base_uri": "https://localhost:8080/"
        },
        "id": "caJzmPOp81Lh",
        "outputId": "f234cf05-43d2-4a9e-ff11-b95f84bcf07f"
      },
      "execution_count": null,
      "outputs": [
        {
          "output_type": "stream",
          "name": "stdout",
          "text": [
            "{('D', 'F'), ('B', 'A'), ('C', 'E'), ('E', 'C'), ('C', 'B'), ('D', 'B'), ('B', 'C'), ('D', 'C'), ('C', 'D'), ('A', 'D'), ('E', 'B'), ('C', 'A'), ('A', 'C'), ('B', 'D'), ('A', 'B'), ('D', 'A'), ('F', 'D'), ('B', 'E')}\n"
          ]
        }
      ]
    }
  ]
}